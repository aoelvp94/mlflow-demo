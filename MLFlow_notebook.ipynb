{
 "cells": [
  {
   "cell_type": "code",
   "execution_count": 2,
   "id": "2e5e1107-66f7-41ce-a0b9-c94b0ae9ceae",
   "metadata": {},
   "outputs": [],
   "source": [
    "#just run first time\n",
    "import mlflow\n",
    "import os\n",
    "from datetime import datetime\n",
    "try:\n",
    "    from cfg import OUTPUT_PATH\n",
    "except:\n",
    "    import sys\n",
    "    sys.path.insert(0, \"../\") \n",
    "    from cfg import OUTPUT_PATH\n"
   ]
  },
  {
   "cell_type": "code",
   "execution_count": 3,
   "id": "5baa1d90-985d-4d2e-adcf-a17dc8d7df4e",
   "metadata": {},
   "outputs": [],
   "source": [
    "MLFLOW_ARTIFACT_ROOT = os.environ['MLFLOW_ARTIFACT_ROOT']\n",
    "MLFLOW_TRACKING_USERNAME = os.environ['MLFLOW_TRACKING_USERNAME']\n",
    "MLFLOW_TRACKING_PASSWORD = os.environ['MLFLOW_TRACKING_PASSWORD']\n",
    "MLFLOW_SERVER_HOST = os.environ['MLFLOW_SERVER_HOST']\n",
    "MLFLOW_SERVER_PORT = os.environ['MLFLOW_SERVER_PORT']\n",
    "MLFLOW_TRACKING_URI = f'http://{MLFLOW_TRACKING_USERNAME}:{MLFLOW_TRACKING_PASSWORD}@{MLFLOW_SERVER_HOST}:{MLFLOW_SERVER_PORT}'\n",
    "\n",
    "experiment_name = \"test\"\n",
    "mlflow.set_tracking_uri(MLFLOW_TRACKING_URI) \n",
    "\n",
    "try:\n",
    "    mlflow.create_experiment(experiment_name, MLFLOW_ARTIFACT_ROOT)\n",
    "except Exception:\n",
    "        pass\n",
    "\n",
    "mlflow.set_experiment(experiment_name)\n",
    "\n",
    "dt = datetime.now().strftime(\"%Y%m%dT%H%M\")\n",
    "    \n",
    "with mlflow.start_run(run_name=f\"test_{dt}\") as run:\n",
    "    mlflow.log_param(\"test1\", 0)\n",
    "    mlflow.log_metric(\"test2\", 1)\n",
    "\n",
    "    NOTEBOOK_PATH = OUTPUT_PATH / \"notebook\"\n",
    "    with open(NOTEBOOK_PATH  / \"test.txt\", \"w\") as f:\n",
    "        f.write(\"this is an artifact\")\n",
    "    mlflow.log_artifacts(NOTEBOOK_PATH, artifact_path=\"artifacts\")\n",
    "    mlflow.end_run()"
   ]
  },
  {
   "cell_type": "code",
   "execution_count": null,
   "id": "45857c45-059b-46e7-816c-37b80474b4e0",
   "metadata": {},
   "outputs": [],
   "source": [
    "#from mlflow.models import Model\n",
    "\n",
    "# Load the Model object from a local MLmodel file\n",
    "#model1 = Model.load(\"~/path/to/my/MLmodel\")"
   ]
  }
 ],
 "metadata": {
  "kernelspec": {
   "display_name": "mlflow-py3.9",
   "language": "python",
   "name": "mlflow-py3.9"
  },
  "language_info": {
   "codemirror_mode": {
    "name": "ipython",
    "version": 3
   },
   "file_extension": ".py",
   "mimetype": "text/x-python",
   "name": "python",
   "nbconvert_exporter": "python",
   "pygments_lexer": "ipython3",
   "version": "3.9.1"
  }
 },
 "nbformat": 4,
 "nbformat_minor": 5
}
