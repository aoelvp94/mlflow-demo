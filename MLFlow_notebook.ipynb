{
 "cells": [
  {
   "cell_type": "code",
   "execution_count": 1,
   "id": "2e5e1107-66f7-41ce-a0b9-c94b0ae9ceae",
   "metadata": {},
   "outputs": [],
   "source": [
    "#just run first time\n",
    "import mlflow\n",
    "import os\n",
    "from datetime import datetime\n",
    "try:\n",
    "    from cfg import OUTPUT_PATH\n",
    "except:\n",
    "    import sys\n",
    "    sys.path.insert(0, \"../\") \n",
    "    from cfg import OUTPUT_PATH\n"
   ]
  },
  {
   "cell_type": "code",
   "execution_count": 4,
   "id": "5baa1d90-985d-4d2e-adcf-a17dc8d7df4e",
   "metadata": {},
   "outputs": [
    {
     "ename": "FileNotFoundError",
     "evalue": "[Errno 2] No such file or directory: '/wine/outputs/notebook/test.txt'",
     "output_type": "error",
     "traceback": [
      "\u001b[0;31m---------------------------------------------------------------------------\u001b[0m",
      "\u001b[0;31mFileNotFoundError\u001b[0m                         Traceback (most recent call last)",
      "Cell \u001b[0;32mIn[4], line 25\u001b[0m\n\u001b[1;32m     22\u001b[0m mlflow\u001b[38;5;241m.\u001b[39mlog_metric(\u001b[38;5;124m\"\u001b[39m\u001b[38;5;124mtest2\u001b[39m\u001b[38;5;124m\"\u001b[39m, \u001b[38;5;241m1\u001b[39m)\n\u001b[1;32m     24\u001b[0m NOTEBOOK_PATH \u001b[38;5;241m=\u001b[39m OUTPUT_PATH \u001b[38;5;241m/\u001b[39m \u001b[38;5;124m\"\u001b[39m\u001b[38;5;124mnotebook\u001b[39m\u001b[38;5;124m\"\u001b[39m\n\u001b[0;32m---> 25\u001b[0m \u001b[38;5;28;01mwith\u001b[39;00m \u001b[38;5;28;43mopen\u001b[39;49m\u001b[43m(\u001b[49m\u001b[43mNOTEBOOK_PATH\u001b[49m\u001b[43m  \u001b[49m\u001b[38;5;241;43m/\u001b[39;49m\u001b[43m \u001b[49m\u001b[38;5;124;43m\"\u001b[39;49m\u001b[38;5;124;43mtest.txt\u001b[39;49m\u001b[38;5;124;43m\"\u001b[39;49m\u001b[43m,\u001b[49m\u001b[43m \u001b[49m\u001b[38;5;124;43m\"\u001b[39;49m\u001b[38;5;124;43mw\u001b[39;49m\u001b[38;5;124;43m\"\u001b[39;49m\u001b[43m)\u001b[49m \u001b[38;5;28;01mas\u001b[39;00m f:\n\u001b[1;32m     26\u001b[0m     f\u001b[38;5;241m.\u001b[39mwrite(\u001b[38;5;124m\"\u001b[39m\u001b[38;5;124mthis is an artifact\u001b[39m\u001b[38;5;124m\"\u001b[39m)\n\u001b[1;32m     27\u001b[0m mlflow\u001b[38;5;241m.\u001b[39mlog_artifacts(NOTEBOOK_PATH \u001b[38;5;241m/\u001b[39m \u001b[38;5;124m\"\u001b[39m\u001b[38;5;124mnotebook\u001b[39m\u001b[38;5;124m\"\u001b[39m, artifact_path\u001b[38;5;241m=\u001b[39m\u001b[38;5;124m\"\u001b[39m\u001b[38;5;124martifacts\u001b[39m\u001b[38;5;124m\"\u001b[39m)\n",
      "File \u001b[0;32m/opt/poetry-venv/lib/python3.9/site-packages/IPython/core/interactiveshell.py:284\u001b[0m, in \u001b[0;36m_modified_open\u001b[0;34m(file, *args, **kwargs)\u001b[0m\n\u001b[1;32m    277\u001b[0m \u001b[38;5;28;01mif\u001b[39;00m file \u001b[38;5;129;01min\u001b[39;00m {\u001b[38;5;241m0\u001b[39m, \u001b[38;5;241m1\u001b[39m, \u001b[38;5;241m2\u001b[39m}:\n\u001b[1;32m    278\u001b[0m     \u001b[38;5;28;01mraise\u001b[39;00m \u001b[38;5;167;01mValueError\u001b[39;00m(\n\u001b[1;32m    279\u001b[0m         \u001b[38;5;124mf\u001b[39m\u001b[38;5;124m\"\u001b[39m\u001b[38;5;124mIPython won\u001b[39m\u001b[38;5;124m'\u001b[39m\u001b[38;5;124mt let you open fd=\u001b[39m\u001b[38;5;132;01m{\u001b[39;00mfile\u001b[38;5;132;01m}\u001b[39;00m\u001b[38;5;124m by default \u001b[39m\u001b[38;5;124m\"\u001b[39m\n\u001b[1;32m    280\u001b[0m         \u001b[38;5;124m\"\u001b[39m\u001b[38;5;124mas it is likely to crash IPython. If you know what you are doing, \u001b[39m\u001b[38;5;124m\"\u001b[39m\n\u001b[1;32m    281\u001b[0m         \u001b[38;5;124m\"\u001b[39m\u001b[38;5;124myou can use builtins\u001b[39m\u001b[38;5;124m'\u001b[39m\u001b[38;5;124m open.\u001b[39m\u001b[38;5;124m\"\u001b[39m\n\u001b[1;32m    282\u001b[0m     )\n\u001b[0;32m--> 284\u001b[0m \u001b[38;5;28;01mreturn\u001b[39;00m \u001b[43mio_open\u001b[49m\u001b[43m(\u001b[49m\u001b[43mfile\u001b[49m\u001b[43m,\u001b[49m\u001b[43m \u001b[49m\u001b[38;5;241;43m*\u001b[39;49m\u001b[43margs\u001b[49m\u001b[43m,\u001b[49m\u001b[43m \u001b[49m\u001b[38;5;241;43m*\u001b[39;49m\u001b[38;5;241;43m*\u001b[39;49m\u001b[43mkwargs\u001b[49m\u001b[43m)\u001b[49m\n",
      "\u001b[0;31mFileNotFoundError\u001b[0m: [Errno 2] No such file or directory: '/wine/outputs/notebook/test.txt'"
     ]
    }
   ],
   "source": [
    "MLFLOW_ARTIFACT_ROOT = os.environ['MLFLOW_ARTIFACT_ROOT']\n",
    "MLFLOW_TRACKING_USERNAME = os.environ['MLFLOW_TRACKING_USERNAME']\n",
    "MLFLOW_TRACKING_PASSWORD = os.environ['MLFLOW_TRACKING_PASSWORD']\n",
    "MLFLOW_SERVER_HOST = os.environ['MLFLOW_SERVER_HOST']\n",
    "MLFLOW_SERVER_PORT = os.environ['MLFLOW_SERVER_PORT']\n",
    "MLFLOW_TRACKING_URI = f'http://{MLFLOW_TRACKING_USERNAME}:{MLFLOW_TRACKING_PASSWORD}@{MLFLOW_SERVER_HOST}:{MLFLOW_SERVER_PORT}'\n",
    "\n",
    "experiment_name = \"test\"\n",
    "mlflow.set_tracking_uri(MLFLOW_TRACKING_URI) \n",
    "\n",
    "try:\n",
    "    mlflow.create_experiment(experiment_name, MLFLOW_ARTIFACT_ROOT)\n",
    "except Exception:\n",
    "        pass\n",
    "\n",
    "mlflow.set_experiment(experiment_name)\n",
    "\n",
    "dt = datetime.now().strftime(\"%Y%m%dT%H%M\")\n",
    "    \n",
    "with mlflow.start_run(run_name=f\"test_{dt}\") as run:\n",
    "    mlflow.log_param(\"test1\", 0)\n",
    "    mlflow.log_metric(\"test2\", 1)\n",
    "\n",
    "    NOTEBOOK_PATH = OUTPUT_PATH / \"notebook\"\n",
    "    with open(NOTEBOOK_PATH  / \"test.txt\", \"w\") as f:\n",
    "        f.write(\"this is an artifact\")\n",
    "    mlflow.log_artifacts(NOTEBOOK_PATH / \"notebook\", artifact_path=\"artifacts\")\n",
    "    #mlflow.log_artifact(OUTPUT_PATH /\"test.txt\")\n",
    "    mlflow.end_run()"
   ]
  },
  {
   "cell_type": "code",
   "execution_count": null,
   "id": "45857c45-059b-46e7-816c-37b80474b4e0",
   "metadata": {},
   "outputs": [],
   "source": []
  }
 ],
 "metadata": {
  "kernelspec": {
   "display_name": "mlflow-py3.9",
   "language": "python",
   "name": "mlflow-py3.9"
  },
  "language_info": {
   "codemirror_mode": {
    "name": "ipython",
    "version": 3
   },
   "file_extension": ".py",
   "mimetype": "text/x-python",
   "name": "python",
   "nbconvert_exporter": "python",
   "pygments_lexer": "ipython3",
   "version": "3.9.1"
  }
 },
 "nbformat": 4,
 "nbformat_minor": 5
}
